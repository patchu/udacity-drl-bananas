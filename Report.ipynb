{
 "cells": [
  {
   "cell_type": "markdown",
   "id": "1d34aebe",
   "metadata": {},
   "source": [
    "# INTRODUCTION"
   ]
  },
  {
   "cell_type": "markdown",
   "id": "7905b0ab",
   "metadata": {},
   "source": [
    "This project contains the files for the first project in the *Udacity Deep Reinforcement Learning Nanodegree*. It places an agent in an environment where the goal of the agent is to maximize its rewards given a fixed limit of 300 actions.\n",
    "\n",
    "The environment consists of a walled area with yellow and blue bananas placed at random in the playing field. The goal for the agent is to collect as many **yellow bananas (+1 reward)** as possible while avoiding **blue bananas (-1 reward)**. \n",
    "\n",
    "The actions available to the agent are:\n",
    "* move forwards\n",
    "* move backwards\n",
    "* turn left\n",
    "* turn right\n",
    "\n",
    "At first the agent's movements are random, but over time it learns which actions to take to maximize its rewards.\n",
    "\n",
    "The goal of the project is to average 13 points over the previous 100 episodes. If the agent is able to do this, the task is considered \"solved\" and the training ends."
   ]
  },
  {
   "cell_type": "markdown",
   "id": "72f3166a",
   "metadata": {},
   "source": [
    "# IMPLEMENTATION"
   ]
  },
  {
   "cell_type": "code",
   "execution_count": null,
   "id": "6f46f3ea",
   "metadata": {},
   "outputs": [],
   "source": []
  },
  {
   "cell_type": "markdown",
   "id": "d643d280",
   "metadata": {},
   "source": [
    "| Time | episodes |     structure    |  update  |\n",
    "|:----:|:--------:|:----------------:|:--------:|\n",
    "|      |          |                  |          |\n",
    "|  638 |    559   |  512 / 512 / 256 |  128 / 6 |\n",
    "|  348 |    434   |  256 / 256 / 256 |  128 / 6 |\n",
    "|  526 |    567   |  256 / 256 / 64  |  32 / 2  |\n",
    "|  343 |    563   |  256 / 256 / 64  | 128 / 12 |\n",
    "|  393 |    599   |  256 / 256 / 64  | 256 / 12 |\n",
    "|  964 |    513   | 2048 / 512 / 128 |  128 / 6 |\n",
    "|  369 |    584   |  256 / 256 / 64  | 128 / 12 |\n",
    "|  370 |    484   |  256 / 256 / 64  |  128 / 6 |\n",
    "|  320 |    453   |  128 / 128 / 64  |  128 / 6 |\n",
    "|  310 |    455   |  128 / 128 / 64  |  128 / 6 |\n",
    "|  343 |    484   |   64 / 64 / 64   |  128 / 6 |\n",
    "|  294 |    452   |   64 / 64 / 64   |  128 / 6 |"
   ]
  },
  {
   "cell_type": "code",
   "execution_count": null,
   "id": "f287261a",
   "metadata": {},
   "outputs": [],
   "source": []
  }
 ],
 "metadata": {
  "kernelspec": {
   "display_name": "Python 3 (ipykernel)",
   "language": "python",
   "name": "python3"
  },
  "language_info": {
   "codemirror_mode": {
    "name": "ipython",
    "version": 3
   },
   "file_extension": ".py",
   "mimetype": "text/x-python",
   "name": "python",
   "nbconvert_exporter": "python",
   "pygments_lexer": "ipython3",
   "version": "3.9.15"
  }
 },
 "nbformat": 4,
 "nbformat_minor": 5
}
